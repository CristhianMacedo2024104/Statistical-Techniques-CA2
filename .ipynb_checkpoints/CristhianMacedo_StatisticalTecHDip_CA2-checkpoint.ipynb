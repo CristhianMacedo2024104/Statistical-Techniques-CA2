{
 "cells": [
  {
   "cell_type": "markdown",
   "id": "80420d0f-2f7b-4696-8d30-8a9e255d1c4c",
   "metadata": {},
   "source": [
    "### CA2 – Statistical Techniques HDip\n",
    "#### Author: Cristhian Macedo - 2024104\n",
    "[GitHub Repository](https://github.com/CristhianMacedo2024104/Statistical-Techniques-CA2)"
   ]
  },
  {
   "cell_type": "code",
   "execution_count": 1,
   "id": "58a3aa1c-56a1-455e-8da9-44b01a373e48",
   "metadata": {},
   "outputs": [],
   "source": [
    "import pandas as pd\n",
    "\n",
    "import warnings\n",
    "warnings.filterwarnings(\"ignore\")"
   ]
  },
  {
   "cell_type": "markdown",
   "id": "f67a01cf-2fc7-4cc3-8448-e4620d5d8def",
   "metadata": {},
   "source": [
    "## Task 1\n",
    "1. Load the dataset Q1.csv. It contains the exam scores (in percentages) of a sample of 50 students from a Dublin secondary school.\n",
    "\n",
    "- a. Find and comment on important summary statistics and produce an appropriate plot to summarise the dataset.\n",
    "- b. One of the teachers is concerned about the performance of the students in the school. She suspects that their performance may be below the reported national average of 70%. Does the data show that her concerns are justified? Use a significance level of alpha = 0.05.\n",
    "- c. Produce and comment on an appropriate plot to illustrate your findings."
   ]
  },
  {
   "cell_type": "code",
   "execution_count": 2,
   "id": "c4f6c99f-356a-4009-8437-b0fa9f5fc5d2",
   "metadata": {},
   "outputs": [],
   "source": [
    "task1 = pd.read_csv(\"Q1.csv\")"
   ]
  },
  {
   "cell_type": "code",
   "execution_count": 3,
   "id": "bad9811d-cad2-463f-8ce9-65d4c7ef8c71",
   "metadata": {},
   "outputs": [
    {
     "data": {
      "text/html": [
       "<div>\n",
       "<style scoped>\n",
       "    .dataframe tbody tr th:only-of-type {\n",
       "        vertical-align: middle;\n",
       "    }\n",
       "\n",
       "    .dataframe tbody tr th {\n",
       "        vertical-align: top;\n",
       "    }\n",
       "\n",
       "    .dataframe thead th {\n",
       "        text-align: right;\n",
       "    }\n",
       "</style>\n",
       "<table border=\"1\" class=\"dataframe\">\n",
       "  <thead>\n",
       "    <tr style=\"text-align: right;\">\n",
       "      <th></th>\n",
       "      <th>exam_score</th>\n",
       "    </tr>\n",
       "  </thead>\n",
       "  <tbody>\n",
       "    <tr>\n",
       "      <th>0</th>\n",
       "      <td>74.54</td>\n",
       "    </tr>\n",
       "    <tr>\n",
       "      <th>1</th>\n",
       "      <td>66.20</td>\n",
       "    </tr>\n",
       "    <tr>\n",
       "      <th>2</th>\n",
       "      <td>86.75</td>\n",
       "    </tr>\n",
       "    <tr>\n",
       "      <th>3</th>\n",
       "      <td>70.87</td>\n",
       "    </tr>\n",
       "    <tr>\n",
       "      <th>4</th>\n",
       "      <td>80.43</td>\n",
       "    </tr>\n",
       "  </tbody>\n",
       "</table>\n",
       "</div>"
      ],
      "text/plain": [
       "   exam_score\n",
       "0       74.54\n",
       "1       66.20\n",
       "2       86.75\n",
       "3       70.87\n",
       "4       80.43"
      ]
     },
     "execution_count": 3,
     "metadata": {},
     "output_type": "execute_result"
    }
   ],
   "source": [
    "task1.head()"
   ]
  },
  {
   "cell_type": "code",
   "execution_count": 4,
   "id": "1d7ffb04-9bc3-4941-98ed-dc73cccd51c6",
   "metadata": {},
   "outputs": [
    {
     "data": {
      "text/plain": [
       "(50, 1)"
      ]
     },
     "execution_count": 4,
     "metadata": {},
     "output_type": "execute_result"
    }
   ],
   "source": [
    "task1.shape"
   ]
  },
  {
   "cell_type": "code",
   "execution_count": 5,
   "id": "ce9117a5-f728-48f0-8bcf-ba0e4b43459d",
   "metadata": {},
   "outputs": [
    {
     "data": {
      "text/html": [
       "<div>\n",
       "<style scoped>\n",
       "    .dataframe tbody tr th:only-of-type {\n",
       "        vertical-align: middle;\n",
       "    }\n",
       "\n",
       "    .dataframe tbody tr th {\n",
       "        vertical-align: top;\n",
       "    }\n",
       "\n",
       "    .dataframe thead th {\n",
       "        text-align: right;\n",
       "    }\n",
       "</style>\n",
       "<table border=\"1\" class=\"dataframe\">\n",
       "  <thead>\n",
       "    <tr style=\"text-align: right;\">\n",
       "      <th></th>\n",
       "      <th>exam_score</th>\n",
       "    </tr>\n",
       "  </thead>\n",
       "  <tbody>\n",
       "    <tr>\n",
       "      <th>count</th>\n",
       "      <td>50.000000</td>\n",
       "    </tr>\n",
       "    <tr>\n",
       "      <th>mean</th>\n",
       "      <td>68.735600</td>\n",
       "    </tr>\n",
       "    <tr>\n",
       "      <th>std</th>\n",
       "      <td>9.750143</td>\n",
       "    </tr>\n",
       "    <tr>\n",
       "      <th>min</th>\n",
       "      <td>48.730000</td>\n",
       "    </tr>\n",
       "    <tr>\n",
       "      <th>25%</th>\n",
       "      <td>62.040000</td>\n",
       "    </tr>\n",
       "    <tr>\n",
       "      <th>50%</th>\n",
       "      <td>68.390000</td>\n",
       "    </tr>\n",
       "    <tr>\n",
       "      <th>75%</th>\n",
       "      <td>74.630000</td>\n",
       "    </tr>\n",
       "    <tr>\n",
       "      <th>max</th>\n",
       "      <td>87.360000</td>\n",
       "    </tr>\n",
       "  </tbody>\n",
       "</table>\n",
       "</div>"
      ],
      "text/plain": [
       "       exam_score\n",
       "count   50.000000\n",
       "mean    68.735600\n",
       "std      9.750143\n",
       "min     48.730000\n",
       "25%     62.040000\n",
       "50%     68.390000\n",
       "75%     74.630000\n",
       "max     87.360000"
      ]
     },
     "execution_count": 5,
     "metadata": {},
     "output_type": "execute_result"
    }
   ],
   "source": [
    "task1.describe()"
   ]
  },
  {
   "cell_type": "code",
   "execution_count": 6,
   "id": "3c4a81bb-3394-47ed-ac23-5a915bd3dee3",
   "metadata": {},
   "outputs": [
    {
     "name": "stdout",
     "output_type": "stream",
     "text": [
      "Len: 50.00\n",
      "Sum: 3436.78\n",
      "Mean: 68.74\n",
      "Median: 68.39\n",
      "Mode(s): 48.73\n",
      "Range: 38.63\n",
      "Standard Deviation: 9.65\n",
      "Variance: 93.16\n",
      "Interquartile Range (IQR): 12.59\n",
      "Percentile 25%: 62.04\n",
      "Percentile 50%: 68.39\n",
      "Percentile 75%: 74.63\n",
      "Coefficient of Variation (CV): 14.04\n"
     ]
    }
   ],
   "source": [
    "import numpy as np\n",
    "\n",
    "print(\"Len: {:.2f}\".format(len(task1[\"exam_score\"])))\n",
    "print(\"Sum: {:.2f}\".format(np.sum(task1[\"exam_score\"])))\n",
    "print(\"Mean: {:.2f}\".format(np.mean(task1[\"exam_score\"])))\n",
    "print(\"Median: {:.2f}\".format(np.median(task1[\"exam_score\"])))\n",
    "print(\"Mode(s): {:.2f}\".format(task1[\"exam_score\"].mode()[0]))\n",
    "print(\"Range: {:.2f}\".format(np.max(task1[\"exam_score\"]) - np.min(task1[\"exam_score\"])))\n",
    "print(\"Standard Deviation: {:.2f}\".format(np.std(task1[\"exam_score\"])))\n",
    "print(\"Variance: {:.2f}\".format(np.var(task1[\"exam_score\"])))\n",
    "print(\"Interquartile Range (IQR): {:.2f}\".format(np.percentile(task1[\"exam_score\"], 75) - np.percentile(task1[\"exam_score\"], 25)))\n",
    "print(\"Percentile 25%: {:.2f}\".format(np.percentile(task1[\"exam_score\"], 25)))\n",
    "print(\"Percentile 50%: {:.2f}\".format(np.percentile(task1[\"exam_score\"], 50)))\n",
    "print(\"Percentile 75%: {:.2f}\".format(np.percentile(task1[\"exam_score\"], 75)))\n",
    "print(\"Coefficient of Variation (CV): {:.2f}\".format(np.std(task1[\"exam_score\"]) / np.mean(task1[\"exam_score\"]) * 100))"
   ]
  },
  {
   "cell_type": "code",
   "execution_count": 7,
   "id": "a8f95d8f-baae-4f8b-b345-2fc7fd0a3a9b",
   "metadata": {},
   "outputs": [
    {
     "data": {
      "image/png": "[encoded data removed]",
      "text/plain": [
       "<Figure size 500x500 with 1 Axes>"
      ]
     },
     "metadata": {},
     "output_type": "display_data"
    },
    {
     "name": "stdout",
     "output_type": "stream",
     "text": [
      "Mean: 68.74, Median: 68.39\n",
      "Standard Deviation: 9.75\n"
     ]
    }
   ],
   "source": [
    "import seaborn as sns\n",
    "import matplotlib.pyplot as plt\n",
    "\n",
    "sns.displot(task1[\"exam_score\"], color = \"mediumseagreen\", kde = True)\n",
    "plt.axvline(task1[\"exam_score\"].mean(), linewidth = 3, color = 'tomato', label = \"mean\", alpha = 0.8)\n",
    "plt.axvline(task1[\"exam_score\"].median(), linewidth = 3, color = 'cyan', label = \"median\", alpha = 0.8)\n",
    "plt.title(\"Distribution of Exam Score\", size = 14)\n",
    "plt.legend([\"kde\", \"Mean\", \"Median\"])\n",
    "plt.show()\n",
    "\n",
    "print('Mean: {:.2f}, Median: {:.2f}'.format(task1['exam_score'].mean(), task1['exam_score'].median()))\n",
    "print('Standard Deviation: {:.2f}'.format(task1['exam_score'].std()))"
   ]
  },
  {
   "cell_type": "code",
   "execution_count": 8,
   "id": "a6a59455-54eb-4aea-b108-1f72cfca24eb",
   "metadata": {},
   "outputs": [
    {
     "data": {
      "image/png": "[encoded data removed]",
      "text/plain": [
       "<Figure size 640x480 with 1 Axes>"
      ]
     },
     "metadata": {},
     "output_type": "display_data"
    }
   ],
   "source": [
    "plt.boxplot(task1)\n",
    "plt.show()"
   ]
  },
  {
   "cell_type": "code",
   "execution_count": 9,
   "id": "a0d05c51-c1f5-4ac0-b909-53ef77a80be9",
   "metadata": {},
   "outputs": [
    {
     "data": {
      "image/png": "[encoded data removed]",
      "text/plain": [
       "<Figure size 640x480 with 1 Axes>"
      ]
     },
     "metadata": {},
     "output_type": "display_data"
    }
   ],
   "source": [
    "sns.violinplot(y = task1[\"exam_score\"], linewidth = 1, linecolor = \"springgreen\")\n",
    "plt.show()"
   ]
  },
  {
   "cell_type": "code",
   "execution_count": 10,
   "id": "c629cbc0-fb39-42f1-bff0-b3c3f53d855a",
   "metadata": {},
   "outputs": [
    {
     "data": {
      "image/png": "[encoded data removed]",
      "text/plain": [
       "<Figure size 640x480 with 1 Axes>"
      ]
     },
     "metadata": {},
     "output_type": "display_data"
    }
   ],
   "source": [
    "sns.histplot(task1)\n",
    "plt.show()"
   ]
  },
  {
   "cell_type": "code",
   "execution_count": 11,
   "id": "24655116-9136-40a5-a478-9b44a8145ebb",
   "metadata": {},
   "outputs": [],
   "source": [
    "task1[\"performance\"] = task1[\"exam_score\"] >= 70"
   ]
  },
  {
   "cell_type": "code",
   "execution_count": 12,
   "id": "10f25680-89c2-401e-87d4-32b67cd22183",
   "metadata": {},
   "outputs": [
    {
     "data": {
      "text/html": [
       "<div>\n",
       "<style scoped>\n",
       "    .dataframe tbody tr th:only-of-type {\n",
       "        vertical-align: middle;\n",
       "    }\n",
       "\n",
       "    .dataframe tbody tr th {\n",
       "        vertical-align: top;\n",
       "    }\n",
       "\n",
       "    .dataframe thead th {\n",
       "        text-align: right;\n",
       "    }\n",
       "</style>\n",
       "<table border=\"1\" class=\"dataframe\">\n",
       "  <thead>\n",
       "    <tr style=\"text-align: right;\">\n",
       "      <th></th>\n",
       "      <th>exam_score</th>\n",
       "      <th>performance</th>\n",
       "    </tr>\n",
       "  </thead>\n",
       "  <tbody>\n",
       "    <tr>\n",
       "      <th>0</th>\n",
       "      <td>74.54</td>\n",
       "      <td>True</td>\n",
       "    </tr>\n",
       "    <tr>\n",
       "      <th>1</th>\n",
       "      <td>66.20</td>\n",
       "      <td>False</td>\n",
       "    </tr>\n",
       "    <tr>\n",
       "      <th>2</th>\n",
       "      <td>86.75</td>\n",
       "      <td>True</td>\n",
       "    </tr>\n",
       "    <tr>\n",
       "      <th>3</th>\n",
       "      <td>70.87</td>\n",
       "      <td>True</td>\n",
       "    </tr>\n",
       "    <tr>\n",
       "      <th>4</th>\n",
       "      <td>80.43</td>\n",
       "      <td>True</td>\n",
       "    </tr>\n",
       "  </tbody>\n",
       "</table>\n",
       "</div>"
      ],
      "text/plain": [
       "   exam_score  performance\n",
       "0       74.54         True\n",
       "1       66.20        False\n",
       "2       86.75         True\n",
       "3       70.87         True\n",
       "4       80.43         True"
      ]
     },
     "execution_count": 12,
     "metadata": {},
     "output_type": "execute_result"
    }
   ],
   "source": [
    "task1.head()"
   ]
  },
  {
   "cell_type": "markdown",
   "id": "13877806-28e0-4b87-9dc2-5fa8fa0cdcb3",
   "metadata": {},
   "source": [
    "##### Verify the percentage of people up to 70% as exam score"
   ]
  },
  {
   "cell_type": "code",
   "execution_count": 13,
   "id": "1a52db24-5e11-4768-bdb8-cd12bbec99b9",
   "metadata": {},
   "outputs": [
    {
     "data": {
      "text/plain": [
       "performance\n",
       "False    26\n",
       "True     24\n",
       "Name: count, dtype: int64"
      ]
     },
     "execution_count": 13,
     "metadata": {},
     "output_type": "execute_result"
    }
   ],
   "source": [
    "task1[\"performance\"].value_counts()"
   ]
  },
  {
   "cell_type": "code",
   "execution_count": 14,
   "id": "d6da22e2-945e-4aa5-8657-4ac7971ffa11",
   "metadata": {},
   "outputs": [
    {
     "data": {
      "text/plain": [
       "50"
      ]
     },
     "execution_count": 14,
     "metadata": {},
     "output_type": "execute_result"
    }
   ],
   "source": [
    "len(task1[\"performance\"])"
   ]
  },
  {
   "cell_type": "code",
   "execution_count": 15,
   "id": "cd75b138-72e7-493f-a144-13359a447fb7",
   "metadata": {},
   "outputs": [
    {
     "data": {
      "text/plain": [
       "performance\n",
       "False    0.52\n",
       "True     0.48\n",
       "Name: count, dtype: float64"
      ]
     },
     "execution_count": 15,
     "metadata": {},
     "output_type": "execute_result"
    }
   ],
   "source": [
    "task1[\"performance\"].value_counts() / len(task1[\"performance\"])"
   ]
  },
  {
   "cell_type": "code",
   "execution_count": null,
   "id": "93c709cb-d6a6-4054-ac2a-9a19941006e2",
   "metadata": {},
   "outputs": [],
   "source": []
  },
  {
   "cell_type": "markdown",
   "id": "8dc16ab4-2675-4bb3-aea8-6726182131c0",
   "metadata": {},
   "source": [
    "##### Get a Classification and Grade Band and Standard: \n",
    "1. 0 – 34% Unsatisfactory (Fail)\n",
    "2. 35 – 39% Limited (Fail (pass by compensation, where applicable))\n",
    "3. 40 – 49% Acceptable (Pass)\n",
    "4. 50 – 59% Good (Lower Second Class Honours or Merit One)\n",
    "5. 60 – 69% Very Good (Upper Second Class Honours or Merit Two)\n",
    "6. 70 – 79% Excellent (First Class Honours or Distinction)\n",
    "7. 80 – 89% Outstanding (First Class Honours or Distinction)\n",
    "8. 90 – 100% Exceptional (First Class Honours or Distinction)"
   ]
  },
  {
   "cell_type": "code",
   "execution_count": null,
   "id": "308c46ce-cf8e-49a7-89dd-7aa5b8c6f313",
   "metadata": {},
   "outputs": [],
   "source": []
  },
  {
   "cell_type": "code",
   "execution_count": null,
   "id": "db27e54f-221c-46ec-b335-abed465861d9",
   "metadata": {},
   "outputs": [],
   "source": []
  },
  {
   "cell_type": "code",
   "execution_count": null,
   "id": "993a0b93-2d2a-4879-8131-9b42d44e07b7",
   "metadata": {},
   "outputs": [],
   "source": []
  },
  {
   "cell_type": "code",
   "execution_count": null,
   "id": "5230517c-7f41-4e4c-9978-d04081b963c2",
   "metadata": {},
   "outputs": [],
   "source": []
  },
  {
   "cell_type": "markdown",
   "id": "75274b4f-3c4f-4d9f-8cd2-de3555450b66",
   "metadata": {},
   "source": [
    "---"
   ]
  },
  {
   "cell_type": "markdown",
   "id": "d42339d9-bb69-4759-afb8-77479d62799d",
   "metadata": {},
   "source": [
    "## Task 2\n",
    "\n",
    "2. Load the diamonds dataset, and print the first 5 rows. The color variable refers to the colour of the diamond, with categories from “D” to “J”. Colourless diamonds are considered better than diamonds with a yellow tint. Diamonds from “D” to “F” are considered colourless, and diamonds from colour “G” to “J” are not considered colourless (that is, they have a very faint colour).\n",
    "\n",
    "- a. Create a new binary variable in the dataframe called “colourless” which records 1 in rows with colourless diamonds and 0 otherwise.\n",
    "- b. Perform an appropriate hypothesis test to determine whether there is any association between the clarity of a diamond and whether it is colourless or not. Use a significance level of alpha = 0.01.\n",
    "- c. Produce and comment on an appropriate plot to illustrate your findings.\n",
    "- d. Find and interpret 90% confidence intervals for both the mean price of colourless diamonds and the mean price of non-colourless diamonds."
   ]
  },
  {
   "cell_type": "code",
   "execution_count": 16,
   "id": "d9ac3b50-103f-4353-bc09-0f0d9b2de9e8",
   "metadata": {},
   "outputs": [],
   "source": [
    "task2 = pd.read_csv(\"diamonds.csv\")"
   ]
  },
  {
   "cell_type": "code",
   "execution_count": 17,
   "id": "b4b7f5d7-e243-4933-a79d-9b9ac19d0ddf",
   "metadata": {},
   "outputs": [
    {
     "data": {
      "text/html": [
       "<div>\n",
       "<style scoped>\n",
       "    .dataframe tbody tr th:only-of-type {\n",
       "        vertical-align: middle;\n",
       "    }\n",
       "\n",
       "    .dataframe tbody tr th {\n",
       "        vertical-align: top;\n",
       "    }\n",
       "\n",
       "    .dataframe thead th {\n",
       "        text-align: right;\n",
       "    }\n",
       "</style>\n",
       "<table border=\"1\" class=\"dataframe\">\n",
       "  <thead>\n",
       "    <tr style=\"text-align: right;\">\n",
       "      <th></th>\n",
       "      <th>carat</th>\n",
       "      <th>cut</th>\n",
       "      <th>color</th>\n",
       "      <th>clarity</th>\n",
       "      <th>depth</th>\n",
       "      <th>table</th>\n",
       "      <th>price</th>\n",
       "      <th>x</th>\n",
       "      <th>y</th>\n",
       "      <th>z</th>\n",
       "    </tr>\n",
       "  </thead>\n",
       "  <tbody>\n",
       "    <tr>\n",
       "      <th>0</th>\n",
       "      <td>0.23</td>\n",
       "      <td>Ideal</td>\n",
       "      <td>E</td>\n",
       "      <td>SI2</td>\n",
       "      <td>61.5</td>\n",
       "      <td>55.0</td>\n",
       "      <td>326</td>\n",
       "      <td>3.95</td>\n",
       "      <td>3.98</td>\n",
       "      <td>2.43</td>\n",
       "    </tr>\n",
       "    <tr>\n",
       "      <th>1</th>\n",
       "      <td>0.21</td>\n",
       "      <td>Premium</td>\n",
       "      <td>E</td>\n",
       "      <td>SI1</td>\n",
       "      <td>59.8</td>\n",
       "      <td>61.0</td>\n",
       "      <td>326</td>\n",
       "      <td>3.89</td>\n",
       "      <td>3.84</td>\n",
       "      <td>2.31</td>\n",
       "    </tr>\n",
       "    <tr>\n",
       "      <th>2</th>\n",
       "      <td>0.23</td>\n",
       "      <td>Good</td>\n",
       "      <td>E</td>\n",
       "      <td>VS1</td>\n",
       "      <td>56.9</td>\n",
       "      <td>65.0</td>\n",
       "      <td>327</td>\n",
       "      <td>4.05</td>\n",
       "      <td>4.07</td>\n",
       "      <td>2.31</td>\n",
       "    </tr>\n",
       "    <tr>\n",
       "      <th>3</th>\n",
       "      <td>0.29</td>\n",
       "      <td>Premium</td>\n",
       "      <td>I</td>\n",
       "      <td>VS2</td>\n",
       "      <td>62.4</td>\n",
       "      <td>58.0</td>\n",
       "      <td>334</td>\n",
       "      <td>4.20</td>\n",
       "      <td>4.23</td>\n",
       "      <td>2.63</td>\n",
       "    </tr>\n",
       "    <tr>\n",
       "      <th>4</th>\n",
       "      <td>0.31</td>\n",
       "      <td>Good</td>\n",
       "      <td>J</td>\n",
       "      <td>SI2</td>\n",
       "      <td>63.3</td>\n",
       "      <td>58.0</td>\n",
       "      <td>335</td>\n",
       "      <td>4.34</td>\n",
       "      <td>4.35</td>\n",
       "      <td>2.75</td>\n",
       "    </tr>\n",
       "  </tbody>\n",
       "</table>\n",
       "</div>"
      ],
      "text/plain": [
       "   carat      cut color clarity  depth  table  price     x     y     z\n",
       "0   0.23    Ideal     E     SI2   61.5   55.0    326  3.95  3.98  2.43\n",
       "1   0.21  Premium     E     SI1   59.8   61.0    326  3.89  3.84  2.31\n",
       "2   0.23     Good     E     VS1   56.9   65.0    327  4.05  4.07  2.31\n",
       "3   0.29  Premium     I     VS2   62.4   58.0    334  4.20  4.23  2.63\n",
       "4   0.31     Good     J     SI2   63.3   58.0    335  4.34  4.35  2.75"
      ]
     },
     "execution_count": 17,
     "metadata": {},
     "output_type": "execute_result"
    }
   ],
   "source": [
    "task2.head()"
   ]
  },
  {
   "cell_type": "code",
   "execution_count": null,
   "id": "43e3a5a3-d921-4714-984a-76c2766696fe",
   "metadata": {},
   "outputs": [],
   "source": []
  },
  {
   "cell_type": "code",
   "execution_count": null,
   "id": "4b60eba4-8bcf-4a79-a081-2f9a3f2e7680",
   "metadata": {},
   "outputs": [],
   "source": []
  },
  {
   "cell_type": "code",
   "execution_count": null,
   "id": "be16a35b-f295-4d4e-939f-55b77264066e",
   "metadata": {},
   "outputs": [],
   "source": []
  },
  {
   "cell_type": "code",
   "execution_count": null,
   "id": "6004ae99-d50c-486a-a815-867963243d87",
   "metadata": {},
   "outputs": [],
   "source": []
  },
  {
   "cell_type": "code",
   "execution_count": null,
   "id": "7dd835b0-e72f-4040-9b0a-d1d9eebb2414",
   "metadata": {},
   "outputs": [],
   "source": []
  },
  {
   "cell_type": "markdown",
   "id": "8134f168-fce8-4e75-aa1d-bd822fad2c8d",
   "metadata": {},
   "source": [
    "---"
   ]
  },
  {
   "cell_type": "markdown",
   "id": "15e532bf-a3e8-46eb-9d5a-7f5ded60a89c",
   "metadata": {},
   "source": [
    "## Task 3\n",
    "\n",
    "3. Load the PlantGrowth dataset from the pydataset library. It contains the results of a small study comparing the yields of plants obtained under a control and under two different treatment conditions.\n",
    "\n",
    "- a. Find and comment on important summary statistics by treatment and produce an appropriate plot to summarise the dataset.\n",
    "- b. Conduct an appropriate hypothesis test to see if there is evidence of a difference between the three means (that is, the control and the two treatments). Use a significance level of alpha = 0.05.\n",
    "- c. If there is evidence of a difference between the three means, find and comment on where this difference may be."
   ]
  },
  {
   "cell_type": "code",
   "execution_count": 18,
   "id": "120440de-65f2-4a5d-804f-bfcb756b4e7a",
   "metadata": {},
   "outputs": [],
   "source": [
    "# pip install pydataset"
   ]
  },
  {
   "cell_type": "code",
   "execution_count": 19,
   "id": "627d1dc5-1937-4c0e-bf00-bbf8c2f45eef",
   "metadata": {},
   "outputs": [],
   "source": [
    "from pydataset import data"
   ]
  },
  {
   "cell_type": "code",
   "execution_count": 20,
   "id": "b2c3219f-33b7-4bb7-8ef9-ddf68f1b9d32",
   "metadata": {},
   "outputs": [],
   "source": [
    "task3 = data('PlantGrowth')"
   ]
  },
  {
   "cell_type": "code",
   "execution_count": 21,
   "id": "b87b6143-3f76-4a09-9a5c-83ad37a56a62",
   "metadata": {},
   "outputs": [
    {
     "data": {
      "text/html": [
       "<div>\n",
       "<style scoped>\n",
       "    .dataframe tbody tr th:only-of-type {\n",
       "        vertical-align: middle;\n",
       "    }\n",
       "\n",
       "    .dataframe tbody tr th {\n",
       "        vertical-align: top;\n",
       "    }\n",
       "\n",
       "    .dataframe thead th {\n",
       "        text-align: right;\n",
       "    }\n",
       "</style>\n",
       "<table border=\"1\" class=\"dataframe\">\n",
       "  <thead>\n",
       "    <tr style=\"text-align: right;\">\n",
       "      <th></th>\n",
       "      <th>weight</th>\n",
       "      <th>group</th>\n",
       "    </tr>\n",
       "  </thead>\n",
       "  <tbody>\n",
       "    <tr>\n",
       "      <th>1</th>\n",
       "      <td>4.17</td>\n",
       "      <td>ctrl</td>\n",
       "    </tr>\n",
       "    <tr>\n",
       "      <th>2</th>\n",
       "      <td>5.58</td>\n",
       "      <td>ctrl</td>\n",
       "    </tr>\n",
       "    <tr>\n",
       "      <th>3</th>\n",
       "      <td>5.18</td>\n",
       "      <td>ctrl</td>\n",
       "    </tr>\n",
       "    <tr>\n",
       "      <th>4</th>\n",
       "      <td>6.11</td>\n",
       "      <td>ctrl</td>\n",
       "    </tr>\n",
       "    <tr>\n",
       "      <th>5</th>\n",
       "      <td>4.50</td>\n",
       "      <td>ctrl</td>\n",
       "    </tr>\n",
       "  </tbody>\n",
       "</table>\n",
       "</div>"
      ],
      "text/plain": [
       "   weight group\n",
       "1    4.17  ctrl\n",
       "2    5.58  ctrl\n",
       "3    5.18  ctrl\n",
       "4    6.11  ctrl\n",
       "5    4.50  ctrl"
      ]
     },
     "execution_count": 21,
     "metadata": {},
     "output_type": "execute_result"
    }
   ],
   "source": [
    "task3.head()"
   ]
  },
  {
   "cell_type": "markdown",
   "id": "6f43990b-7bcb-432d-a2c6-8828a1cb092b",
   "metadata": {},
   "source": [
    "---"
   ]
  },
  {
   "cell_type": "markdown",
   "id": "0e80a6f5-3e16-4f2e-bd85-645ee9800032",
   "metadata": {},
   "source": [
    "## Task 4\n",
    "4. Load the trees dataset from the pydataset library. It contains measurements of the diameter, height and volume of timber in 31 felled black cherry trees. Note that the diameter (in inches) is labelled girth in the dataset. It is measured at 4 foot 6 inches above the ground.\n",
    "\n",
    "- a. Perform a correlation analysis between all numerical variables. Include and comment on the results of hypothesis tests for the population correlation coefficients between all three pairs of variables (you can use the pearsonr function from the scipy.stats library).\n",
    "- b. There is interest in estimating the volume of timber from trees using either the girth or the height of the trees, or both. Perform a regression analysis to decide which of the three possible models you would recommend using. Interpret your results and provide a short conclusion of your findings."
   ]
  },
  {
   "cell_type": "code",
   "execution_count": 22,
   "id": "770bc606-d01e-4765-b57e-14700efdcd3b",
   "metadata": {},
   "outputs": [],
   "source": [
    "from pydataset import data"
   ]
  },
  {
   "cell_type": "code",
   "execution_count": 23,
   "id": "3d80f379-478d-4f20-ac8f-b9772eec9897",
   "metadata": {},
   "outputs": [],
   "source": [
    "task4 = data('trees')"
   ]
  },
  {
   "cell_type": "code",
   "execution_count": 24,
   "id": "01c24e18-54aa-499f-a894-1b1b1a97807d",
   "metadata": {},
   "outputs": [
    {
     "data": {
      "text/html": [
       "<div>\n",
       "<style scoped>\n",
       "    .dataframe tbody tr th:only-of-type {\n",
       "        vertical-align: middle;\n",
       "    }\n",
       "\n",
       "    .dataframe tbody tr th {\n",
       "        vertical-align: top;\n",
       "    }\n",
       "\n",
       "    .dataframe thead th {\n",
       "        text-align: right;\n",
       "    }\n",
       "</style>\n",
       "<table border=\"1\" class=\"dataframe\">\n",
       "  <thead>\n",
       "    <tr style=\"text-align: right;\">\n",
       "      <th></th>\n",
       "      <th>Girth</th>\n",
       "      <th>Height</th>\n",
       "      <th>Volume</th>\n",
       "    </tr>\n",
       "  </thead>\n",
       "  <tbody>\n",
       "    <tr>\n",
       "      <th>1</th>\n",
       "      <td>8.3</td>\n",
       "      <td>70</td>\n",
       "      <td>10.3</td>\n",
       "    </tr>\n",
       "    <tr>\n",
       "      <th>2</th>\n",
       "      <td>8.6</td>\n",
       "      <td>65</td>\n",
       "      <td>10.3</td>\n",
       "    </tr>\n",
       "    <tr>\n",
       "      <th>3</th>\n",
       "      <td>8.8</td>\n",
       "      <td>63</td>\n",
       "      <td>10.2</td>\n",
       "    </tr>\n",
       "    <tr>\n",
       "      <th>4</th>\n",
       "      <td>10.5</td>\n",
       "      <td>72</td>\n",
       "      <td>16.4</td>\n",
       "    </tr>\n",
       "    <tr>\n",
       "      <th>5</th>\n",
       "      <td>10.7</td>\n",
       "      <td>81</td>\n",
       "      <td>18.8</td>\n",
       "    </tr>\n",
       "  </tbody>\n",
       "</table>\n",
       "</div>"
      ],
      "text/plain": [
       "   Girth  Height  Volume\n",
       "1    8.3      70    10.3\n",
       "2    8.6      65    10.3\n",
       "3    8.8      63    10.2\n",
       "4   10.5      72    16.4\n",
       "5   10.7      81    18.8"
      ]
     },
     "execution_count": 24,
     "metadata": {},
     "output_type": "execute_result"
    }
   ],
   "source": [
    "task4.head()"
   ]
  },
  {
   "cell_type": "markdown",
   "id": "b1bf8636-4bc0-417f-a34b-ec041d8b40b6",
   "metadata": {},
   "source": [
    "---"
   ]
  },
  {
   "cell_type": "markdown",
   "id": "241575dc-3772-48dd-bade-cc20aa60ff79",
   "metadata": {},
   "source": [
    "### References\n",
    "\n",
    "iamaziz (2015). PyDataset/examples/basic-usage.ipynb at master · iamaziz/PyDataset. [online] GitHub. Available at: https://github.com/iamaziz/PyDataset/blob/master/examples/basic-usage.ipynb [Accessed 1 May 2024]."
   ]
  }
 ],
 "metadata": {
  "kernelspec": {
   "display_name": "Python 3 (ipykernel)",
   "language": "python",
   "name": "python3"
  },
  "language_info": {
   "codemirror_mode": {
    "name": "ipython",
    "version": 3
   },
   "file_extension": ".py",
   "mimetype": "text/x-python",
   "name": "python",
   "nbconvert_exporter": "python",
   "pygments_lexer": "ipython3",
   "version": "3.11.9"
  }
 },
 "nbformat": 4,
 "nbformat_minor": 5
}
