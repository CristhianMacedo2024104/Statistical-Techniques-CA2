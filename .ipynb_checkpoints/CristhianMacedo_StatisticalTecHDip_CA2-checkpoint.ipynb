{
 "cells": [
  {
   "cell_type": "markdown",
   "id": "80420d0f-2f7b-4696-8d30-8a9e255d1c4c",
   "metadata": {},
   "source": [
    "### CA2 – Statistical Techniques HDip\n",
    "#### Author: Cristhian Macedo - 2024104\n",
    "[GitHub Repository](https://github.com/CristhianMacedo2024104/Statistical-Techniques-CA2)"
   ]
  },
  {
   "cell_type": "markdown",
   "id": "f67a01cf-2fc7-4cc3-8448-e4620d5d8def",
   "metadata": {},
   "source": [
    "## Task 1\n",
    "1. Load the dataset Q1.csv. It contains the exam scores (in percentages) of a sample of 50 students from a Dublin secondary school.\n",
    "\n",
    "- a. Find and comment on important summary statistics and produce an appropriate plot to summarise the dataset.\n",
    "- b. One of the teachers is concerned about the performance of the students in the school. She suspects that their performance may be below the reported national average of 70%. Does the data show that her concerns are justified? Use a significance level of alpha = 0.05.\n",
    "- c. Produce and comment on an appropriate plot to illustrate your findings."
   ]
  },
  {
   "cell_type": "code",
   "execution_count": null,
   "id": "bad9811d-cad2-463f-8ce9-65d4c7ef8c71",
   "metadata": {},
   "outputs": [],
   "source": []
  },
  {
   "cell_type": "markdown",
   "id": "d42339d9-bb69-4759-afb8-77479d62799d",
   "metadata": {},
   "source": [
    "## Task 2\n",
    "\n",
    "2. Load the diamonds dataset, and print the first 5 rows. The color variable refers to the colour of the diamond, with categories from “D” to “J”. Colourless diamonds are considered better than diamonds with a yellow tint. Diamonds from “D” to “F” are considered colourless, and diamonds from colour “G” to “J” are not considered colourless (that is, they have a very faint colour).\n",
    "\n",
    "- a. Create a new binary variable in the dataframe called “colourless” which records 1 in rows with colourless diamonds and 0 otherwise.\n",
    "- b. Perform an appropriate hypothesis test to determine whether there is any association between the clarity of a diamond and whether it is colourless or not. Use a significance level of alpha = 0.01.\n",
    "- c. Produce and comment on an appropriate plot to illustrate your findings.\n",
    "- d. Find and interpret 90% confidence intervals for both the mean price of colourless diamonds and the mean price of non-colourless diamonds."
   ]
  },
  {
   "cell_type": "code",
   "execution_count": null,
   "id": "b4b7f5d7-e243-4933-a79d-9b9ac19d0ddf",
   "metadata": {},
   "outputs": [],
   "source": []
  },
  {
   "cell_type": "markdown",
   "id": "15e532bf-a3e8-46eb-9d5a-7f5ded60a89c",
   "metadata": {},
   "source": [
    "## Task 3\n",
    "\n",
    "3. Load the PlantGrowth dataset from the pydataset library. It contains the results of a small study comparing the yields of plants obtained under a control and under two different treatment conditions.\n",
    "\n",
    "- a. Find and comment on important summary statistics by treatment and produce an appropriate plot to summarise the dataset.\n",
    "- b. Conduct an appropriate hypothesis test to see if there is evidence of a difference between the three means (that is, the control and the two treatments). Use a significance level of alpha = 0.05.\n",
    "- c. If there is evidence of a difference between the three means, find and comment on where this difference may be."
   ]
  },
  {
   "cell_type": "code",
   "execution_count": null,
   "id": "6fe7c1ee-6f3a-43df-912b-3f40b0107d53",
   "metadata": {},
   "outputs": [],
   "source": []
  },
  {
   "cell_type": "markdown",
   "id": "0e80a6f5-3e16-4f2e-bd85-645ee9800032",
   "metadata": {},
   "source": [
    "## Task 4\n",
    "4. Load the trees dataset from the pydataset library. It contains measurements of the diameter, height and volume of timber in 31 felled black cherry trees. Note that the diameter (in inches) is labelled girth in the dataset. It is measured at 4 foot 6 inches above the ground.\n",
    "\n",
    "- a. Perform a correlation analysis between all numerical variables. Include and comment on the results of hypothesis tests for the population correlation coefficients between all three pairs of variables (you can use the pearsonr function from the scipy.stats library).\n",
    "- b. There is interest in estimating the volume of timber from trees using either the girth or the height of the trees, or both. Perform a regression analysis to decide which of the three possible models you would recommend using. Interpret your results and provide a short conclusion of your findings."
   ]
  },
  {
   "cell_type": "code",
   "execution_count": null,
   "id": "770bc606-d01e-4765-b57e-14700efdcd3b",
   "metadata": {},
   "outputs": [],
   "source": []
  }
 ],
 "metadata": {
  "kernelspec": {
   "display_name": "Python 3 (ipykernel)",
   "language": "python",
   "name": "python3"
  },
  "language_info": {
   "codemirror_mode": {
    "name": "ipython",
    "version": 3
   },
   "file_extension": ".py",
   "mimetype": "text/x-python",
   "name": "python",
   "nbconvert_exporter": "python",
   "pygments_lexer": "ipython3",
   "version": "3.12.3"
  }
 },
 "nbformat": 4,
 "nbformat_minor": 5
}
